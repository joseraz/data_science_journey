{
 "cells": [
  {
   "cell_type": "markdown",
   "metadata": {},
   "source": [
    "# Weekend Workshop: Accessing data on the web\n",
    "\n",
    "---\n",
    "This workshop is to practice web scraping and dealing with data from APIs using Jupyter Notebooks.\n",
    "\n",
    "---\n"
   ]
  },
  {
   "cell_type": "markdown",
   "metadata": {},
   "source": [
    "## Section 1\n",
    "## Trump tweets, JSON edition\n",
    "\n",
    "We first look at some of Donald Trump's tweets that have been conveniently packaged into a CSV file to open as a spreadsheet. The dataset we used ended in summer 2016. What if we wanted to analyse more recent tweets? We could do this by registering for access to [Twitter's API](https://dev.twitter.com/rest/public) and downloading the data directly using one of the [libraries](https://dev.twitter.com/resources/twitter-libraries) that Python users have developed for accessing the API. \n",
    "\n",
    "We won't register for the API today. Instead, we'll use the data maintained by Github user [bpb27](https://github.com/bpb27/trump_tweet_data_archive). \n",
    "\n",
    "The data that we'll use has been cleaned and condensed, but resembles the output from the Twitter API. Instead of CSV, the API gives data in JSON format. We've included the file `condensed_2016.json` downloaded from Github in the zip file.\n",
    "\n",
    "We can read the JSON file to Python as we would a text file, or open it in Notepad or another text editor. "
   ]
  },
  {
   "cell_type": "code",
   "execution_count": 2,
   "metadata": {},
   "outputs": [
    {
     "name": "stdout",
     "output_type": "stream",
     "text": [
      "[{\"source\": \"Twitter for iPhone\", \"id_str\": \"815271067749060609\", \"text\": \"RT @realDonaldTrump: Happy Birthday @DonaldJTrumpJr!\\nhttps://t.co/uRxyCD3hBz\", \"created_at\": \"Sat Dec 31 18:59:04 +0000 2016\", \"retweet_count\": 9529, \"in_reply_to_user_id_str\": null, \"favorite_count\": 0, \"is_retweet\": true}, {\"source\": \"Twitter for iPhone\", \"id_str\": \"815270850916208644\", \"text\": \"Happy Birthday @DonaldJTrumpJr!\\nhttps://t.co/uRxyCD3hBz\", \"created_at\": \"Sat Dec 31 18:58:12 +0000 2016\", \"retweet_count\": 9\n"
     ]
    }
   ],
   "source": [
    "json_file_name = 'condensed_2016.json'\n",
    "with open(json_file_name, encoding='utf8') as f:\n",
    "    text = f.read()\n",
    "\n",
    "# Print first characters of resulting string \n",
    "print(text[0:500]) "
   ]
  },
  {
   "cell_type": "markdown",
   "metadata": {},
   "source": [
    "Having read the file, we could parse through the string looking for different aspects of each tweet. But it's much more convenient to use a library that directly exploits the structure of JSON."
   ]
  },
  {
   "cell_type": "code",
   "execution_count": 3,
   "metadata": {
    "jupyter": {
     "outputs_hidden": true
    }
   },
   "outputs": [],
   "source": [
    "import json\n",
    "json_file_name = 'condensed_2016.json'\n",
    "with open(json_file_name, encoding='utf8') as f:\n",
    "        tweet_data = json.load(f)"
   ]
  },
  {
   "cell_type": "markdown",
   "metadata": {},
   "source": [
    "The result is a Python list of dictionaries containing the tweets."
   ]
  },
  {
   "cell_type": "code",
   "execution_count": 4,
   "metadata": {},
   "outputs": [
    {
     "data": {
      "text/plain": [
       "[{'source': 'Twitter for iPhone',\n",
       "  'id_str': '815270850916208644',\n",
       "  'text': 'Happy Birthday @DonaldJTrumpJr!\\nhttps://t.co/uRxyCD3hBz',\n",
       "  'created_at': 'Sat Dec 31 18:58:12 +0000 2016',\n",
       "  'retweet_count': 9529,\n",
       "  'in_reply_to_user_id_str': None,\n",
       "  'favorite_count': 55601,\n",
       "  'is_retweet': False},\n",
       " {'source': 'Twitter for Android',\n",
       "  'id_str': '815185071317676033',\n",
       "  'text': \"Happy New Year to all, including to my many enemies and those who have fought me and lost so badly they just don't know what to do. Love!\",\n",
       "  'created_at': 'Sat Dec 31 13:17:21 +0000 2016',\n",
       "  'retweet_count': 141853,\n",
       "  'in_reply_to_user_id_str': None,\n",
       "  'favorite_count': 350860,\n",
       "  'is_retweet': False}]"
      ]
     },
     "execution_count": 4,
     "metadata": {},
     "output_type": "execute_result"
    }
   ],
   "source": [
    "tweet_data[1:3]"
   ]
  },
  {
   "cell_type": "markdown",
   "metadata": {},
   "source": [
    "Now let's study patterns in the data."
   ]
  },
  {
   "cell_type": "markdown",
   "metadata": {},
   "source": [
    "### Up all night?\n",
    "\n",
    "Let's start by analysing President Trump's sleep patterns. We will create a count of the number of tweets by hour of the day. \n",
    "\n",
    "Here's how you can get the hour from a tweet timestamp using the `datetime` module."
   ]
  },
  {
   "cell_type": "code",
   "execution_count": 5,
   "metadata": {},
   "outputs": [
    {
     "name": "stdout",
     "output_type": "stream",
     "text": [
      ">>> Step 1\n",
      "{'source': 'Twitter for iPhone', 'id_str': '815271067749060609', 'text': 'RT @realDonaldTrump: Happy Birthday @DonaldJTrumpJr!\\nhttps://t.co/uRxyCD3hBz', 'created_at': 'Sat Dec 31 18:59:04 +0000 2016', 'retweet_count': 9529, 'in_reply_to_user_id_str': None, 'favorite_count': 0, 'is_retweet': True}\n",
      ">>> Step 2\n",
      "Sat Dec 31 18:59:04 +0000 2016\n",
      ">>> Step 3\n",
      "2016 12 31 18\n"
     ]
    },
    {
     "data": {
      "text/plain": [
       "int"
      ]
     },
     "execution_count": 5,
     "metadata": {},
     "output_type": "execute_result"
    }
   ],
   "source": [
    "from datetime import datetime\n",
    "print('>>> Step 1')\n",
    "# Get first tweet\n",
    "tw = tweet_data[0]\n",
    "print(tw)\n",
    "\n",
    "# We see the timestamp is at the field 'created_at'\n",
    "print('>>> Step 2')\n",
    "# Get timestamp of the tweet\n",
    "date_str = tw['created_at']\n",
    "print(date_str)\n",
    "\n",
    "print('>>> Step 3')\n",
    "# Make into datetime object, get the attributes of the result\n",
    "dt = datetime.strptime(date_str,'%a %b %d %H:%M:%S +0000 %Y') # specify format of time string\n",
    "print(dt.year, dt.month, dt.day, dt.hour)\n",
    "type(dt.hour)"
   ]
  },
  {
   "cell_type": "markdown",
   "metadata": {},
   "source": [
    "Now count all tweets by hour. One way to do this is creating a dictionary with keys as hours and values as counts.\n",
    "\n",
    "#### Sidebar: dictionary comprehension\n",
    "\n",
    "Python has a convenient way of reducing the work we need to do for writing loops called _comprehensions_. We can write a loop to create a dictionary in a single line as follows. (Here we could use a list comprehension too.)"
   ]
  },
  {
   "cell_type": "code",
   "execution_count": 6,
   "metadata": {},
   "outputs": [
    {
     "data": {
      "text/plain": [
       "{0: 0,\n",
       " 1: 0,\n",
       " 2: 0,\n",
       " 3: 0,\n",
       " 4: 0,\n",
       " 5: 0,\n",
       " 6: 0,\n",
       " 7: 0,\n",
       " 8: 0,\n",
       " 9: 0,\n",
       " 10: 0,\n",
       " 11: 0,\n",
       " 12: 0,\n",
       " 13: 0,\n",
       " 14: 0,\n",
       " 15: 0,\n",
       " 16: 0,\n",
       " 17: 0,\n",
       " 18: 0,\n",
       " 19: 0,\n",
       " 20: 0,\n",
       " 21: 0,\n",
       " 22: 0,\n",
       " 23: 0}"
      ]
     },
     "execution_count": 6,
     "metadata": {},
     "output_type": "execute_result"
    }
   ],
   "source": [
    "# Initialize dictionary of zero hourly counts using dictionary comprehension\n",
    "# Dictionary specified as key->hour, value->zero for each hour value in the range\n",
    "hourly_counts = {hour:0 for hour in range(24)}\n",
    "hourly_counts"
   ]
  },
  {
   "cell_type": "markdown",
   "metadata": {},
   "source": [
    "You may find this initialization useful in calculating the counts."
   ]
  },
  {
   "cell_type": "code",
   "execution_count": 14,
   "metadata": {
    "jupyter": {
     "outputs_hidden": true
    }
   },
   "outputs": [
    {
     "name": "stdout",
     "output_type": "stream",
     "text": [
      "{0: 0, 1: 0, 2: 0, 3: 0, 4: 0, 5: 0, 6: 0, 7: 0, 8: 0, 9: 0, 10: 0, 11: 0, 12: 0, 13: 0, 14: 0, 15: 0, 16: 0, 17: 0, 18: 0, 19: 0, 20: 0, 21: 0, 22: 0, 23: 0}\n",
      "{0: 196, 1: 287, 2: 301, 3: 204, 4: 110, 5: 68, 6: 32, 7: 10, 8: 2, 9: 23, 10: 97, 11: 189, 12: 225, 13: 271, 14: 231, 15: 205, 16: 239, 17: 188, 18: 215, 19: 217, 20: 219, 21: 263, 22: 231, 23: 202}\n"
     ]
    },
    {
     "data": {
      "image/png": "[encoded data removed]",
      "text/plain": [
       "<Figure size 432x288 with 1 Axes>"
      ]
     },
     "metadata": {
      "needs_background": "light"
     },
     "output_type": "display_data"
    }
   ],
   "source": [
    "# Initialize hourly_counts as above\n",
    "hourly_counts = {hour:0 for hour in range(24)}\n",
    "print(hourly_counts)\n",
    "\n",
    "for tweet in tweet_data:\n",
    "    date_str = tweet['created_at']\n",
    "    dt = datetime.strptime(date_str,'%a %b %d %H:%M:%S +0000 %Y')\n",
    "    hourly_counts[dt.hour] += 1\n",
    "                \n",
    "print(hourly_counts)\n",
    "\n",
    "import matplotlib.pyplot as plt\n",
    "\n",
    "x_values = list(hourly_counts.keys())\n",
    "y_values = list(hourly_counts.values())\n",
    "x_pos = x_values\n",
    "plt.plot(x_values, y_values)\n",
    "plt.xticks(x_pos, x_values)\n",
    "plt.ylabel('Tweet Count')\n",
    "plt.xlabel('Hour')\n",
    "plt.title('Trump tweets by hour')\n",
    "plt.show()"
   ]
  },
  {
   "cell_type": "markdown",
   "metadata": {},
   "source": [
    "What is the most common hour for tweeting is 2, 13 and 21.\n",
    "We can say that the President's sleeping patterns are from 5 to 9.\n",
    "\n",
    "You can use the `matplotlib` library to plot the result. You can do a line chart following [the first example here](https://matplotlib.org/users/pyplot_tutorial.html), or a bar chart following [this example](https://pythonspot.com/en/matplotlib-bar-chart/). \n",
    "\n",
    "You could also check how this pattern changes over different months."
   ]
  },
  {
   "cell_type": "markdown",
   "metadata": {},
   "source": [
    "### Who's tweeting?\n",
    "\n",
    "It appears that there are different sources for the tweets in the `source` field of the data. \n",
    "\n",
    "Create an hourly count of tweets by the different sources. Can you infer what this suggests about Trump's personal phone and the one his office uses for tweeting?\n",
    "\n",
    "Let's first find all the sources that are in the data. "
   ]
  },
  {
   "cell_type": "code",
   "execution_count": 16,
   "metadata": {},
   "outputs": [
    {
     "name": "stdout",
     "output_type": "stream",
     "text": [
      "{'Periscope', 'Twitter for iPhone', 'TweetDeck', 'Media Studio', 'Twitter Web Client', 'Mobile Web (M5)', 'Twitter Ads', 'Twitter for iPad', 'Twitter for Android', 'Instagram'}\n"
     ]
    }
   ],
   "source": [
    "sources = set()\n",
    "for tweet in tweet_data:\n",
    "    if tweet['source'] not in sources:\n",
    "        sources.add(tweet['source'])   \n",
    "print(sources)"
   ]
  },
  {
   "cell_type": "markdown",
   "metadata": {},
   "source": [
    "Which are the most common sources and what do their timings suggest about usage?"
   ]
  },
  {
   "cell_type": "code",
   "execution_count": 21,
   "metadata": {
    "jupyter": {
     "outputs_hidden": true
    }
   },
   "outputs": [
    {
     "data": {
      "image/png": "[encoded data removed]",
      "text/plain": [
       "<Figure size 432x288 with 1 Axes>"
      ]
     },
     "metadata": {
      "needs_background": "light"
     },
     "output_type": "display_data"
    }
   ],
   "source": [
    "# Initialize dictionary (or multiple) like above\n",
    "# Loop through tweets and add to counts like above\n",
    "tweets_by_source = {src: {hour:0 for hour in range(24)} for src in sources}\n",
    "tweets_by_source['Twitter for iPhone']\n",
    "\n",
    "for tweet in tweet_data:\n",
    "    # Your code here\n",
    "    src = tweet['source']\n",
    "    date_str = tweet['created_at']\n",
    "    dt = datetime.strptime(date_str,'%a %b %d %H:%M:%S +0000 %Y')\n",
    "    tweets_by_source[src][dt.hour] += 1\n",
    "    \n",
    "sources_to_plot = ['Twitter for iPhone', 'Twitter for Android']\n",
    "for src in sources_to_plot:\n",
    "    x_values = list(tweets_by_source[src].keys())\n",
    "    y_values = list(tweets_by_source[src].values())\n",
    "    x_pos = x_values\n",
    "\n",
    "    plt.plot(x_pos, y_values)\n",
    "    plt.xticks(x_pos, x_values)\n",
    "    plt.ylabel('Tweet count')\n",
    "    plt.xlabel('Hour')\n",
    "    plt.title('Trump tweets by hour')\n",
    "    plt.legend(sources_to_plot)\n",
    " \n",
    "plt.show()"
   ]
  },
  {
   "cell_type": "markdown",
   "metadata": {},
   "source": [
    "### Who's tweeting what?\n",
    "\n",
    "How do the contents of Mr Trump's tweets change depending on the source? We could do some really sophisticated analysis here through [sentiment analysis](http://text-processing.com/demo/sentiment/) of the tweet texts. For the purposes of this exercise, do the following calculations by tweet source:\n",
    "\n",
    "1. Find the fraction of tweets containing the word 'dumb' in either upper or lower case.\n",
    "\n",
    "2. Repeat for words you'd like, for example the ones suggested below.\n",
    "\n",
    "You can also repeat the analysis by source and hour, or look at different words or mentions of different Twitter users. \n",
    "\n",
    "Note you probably want to count both upper and lower case words together.\n"
   ]
  },
  {
   "cell_type": "code",
   "execution_count": 23,
   "metadata": {
    "jupyter": {
     "outputs_hidden": true
    }
   },
   "outputs": [
    {
     "name": "stdout",
     "output_type": "stream",
     "text": [
      "\"Dumb\" fractions\n",
      "{'Periscope': 0.0, 'Twitter for iPhone': 0.0030643513789581204, 'TweetDeck': 0.0, 'Media Studio': 0.0, 'Twitter Web Client': 0.0029411764705882353, 'Mobile Web (M5)': 0.0, 'Twitter Ads': 0.0, 'Twitter for iPad': 0.045454545454545456, 'Twitter for Android': 0.008174386920980926, 'Instagram': 0.0}\n"
     ]
    }
   ],
   "source": [
    "words = ['dumb', 'brexit', '#makeamericagreatagain', 'guns', 'dead', '#crookedhillary']\n",
    "\n",
    "word_counts = {word:{src:0 for src in sources} for word in words}\n",
    "tweet_counts = {src:0 for src in sources}\n",
    "\n",
    "\n",
    "for tweet in tweet_data:\n",
    "    src = tweet['source']\n",
    "    tw_text = tweet['text']\n",
    "    for word in words:\n",
    "        if word in tw_text.lower():\n",
    "            word_counts[word][src] +=1\n",
    "    tweet_counts[src] +=1\n",
    "\n",
    "print('\"Dumb\" fractions')\n",
    "print({src:word_counts['dumb'][src]/tweet_counts[src] for src in word_counts['dumb']})"
   ]
  },
  {
   "cell_type": "markdown",
   "metadata": {},
   "source": [
    "## Section 2\n",
    "## Repeat with the Mexican President"
   ]
  },
  {
   "cell_type": "code",
   "execution_count": null,
   "metadata": {},
   "outputs": [],
   "source": []
  }
 ],
 "metadata": {
  "kernelspec": {
   "display_name": "Python 3",
   "language": "python",
   "name": "python3"
  },
  "language_info": {
   "codemirror_mode": {
    "name": "ipython",
    "version": 3
   },
   "file_extension": ".py",
   "mimetype": "text/x-python",
   "name": "python",
   "nbconvert_exporter": "python",
   "pygments_lexer": "ipython3",
   "version": "3.7.4"
  }
 },
 "nbformat": 4,
 "nbformat_minor": 4
}
