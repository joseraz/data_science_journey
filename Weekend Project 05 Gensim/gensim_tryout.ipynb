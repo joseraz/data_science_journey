{
 "cells": [
  {
   "cell_type": "code",
   "execution_count": 39,
   "metadata": {},
   "outputs": [],
   "source": [
    "# Testing out gensim to learn how to summarise documents and extract the key words\n",
    "# Text extract are from wikipedia's articles of isaac asimov the foundation.\n",
    "\n",
    "# Import the modules\n",
    "from gensim.summarization.summarizer import summarize\n",
    "from gensim.summarization import keywords"
   ]
  },
  {
   "cell_type": "code",
   "execution_count": 37,
   "metadata": {},
   "outputs": [],
   "source": [
    "# text to test out the packages for summarize\n",
    "text = '''\n",
    "This part is original to the 1951 book version and takes place in 0 F.E. (\"Foundation Era\"). The story begins on Trantor, the capital of the 12,000-year-old Galactic Empire, a powerful but slowly decaying empire. Hari Seldon, a mathematician and psychologist, has developed psychohistory, a new field of science and psychology that equates all possibilities in large societies to mathematics, allowing for the prediction of future events.\n",
    "\n",
    "By means of psychohistory, Seldon has discovered the declining nature of the Empire, angering the aristocratic members of the Committee of Public Safety, the de facto rulers of the Empire. The Committee considers Seldon's views and statements treasonous, and he is arrested along with young mathematician Gaal Dornick, who has arrived on Trantor to meet Seldon. Seldon is tried by the Committee and defends his beliefs, explaining his theories and predictions, including his belief that the Empire will collapse in 500 years and enter a 30,000-year dark age. He informs the Committee that an alternative to this future is attainable, and explains to them that creating a compendium of all human knowledge, the Encyclopedia Galactica, would not avert the inevitable fall of the Empire but would reduce the dark age to one millennium.\n",
    "\n",
    "The skeptical Committee, not wanting to make Seldon a martyr, offers him exile to a remote world, Terminus, with others who could help him create the Encyclopedia. He accepts their offer, prepares for the departure of the \"Encyclopedists\" and receives an imperial decree officially acknowledging his actions. Seldon informs Dornick that despite the Empire believing they won by exiling Seldon the outcome was exactly what he had hoped would happen. Terminus would be the home of the first Foundation while a second would be established \"at Star's End.\" Seldon further announces he's dying and implores Dornick to become a leader in the new Foundation.\n",
    "'''"
   ]
  },
  {
   "cell_type": "code",
   "execution_count": 74,
   "metadata": {},
   "outputs": [
    {
     "name": "stdout",
     "output_type": "stream",
     "text": [
      "It is the world's second largest and second highest valued semiconductor chip manufacturer based on revenue after being overtaken by Samsung Electronics, and is the inventor of the x86 series of microprocessors, the processors found in most personal computers (PCs).\n",
      "Intel also manufactures motherboard chipsets, network interface controllers and integrated circuits, flash memory, graphics chips, embedded processors and other devices related to communications and computing.\n",
      "['intel', 'chip', 'chips', 'microprocessors', 'microprocessor', 'devices', 'corporation', 'corporations']\n"
     ]
    }
   ],
   "source": [
    "# ratio desginates the ratio of the text to summarize, word_count have not managed to make it work\n",
    "print(summarize(text, \n",
    "                ratio=0.2, \n",
    "                word_count=None, \n",
    "                split=False))\n",
    "# for keywords I can specify how many words to return as keys\n",
    "print(keywords(text, \n",
    "               words = 5).split('\\n'))"
   ]
  },
  {
   "cell_type": "code",
   "execution_count": 55,
   "metadata": {},
   "outputs": [],
   "source": [
    "#from gensim import keywords\n",
    "import wikipedia"
   ]
  },
  {
   "cell_type": "code",
   "execution_count": 71,
   "metadata": {},
   "outputs": [
    {
     "name": "stdout",
     "output_type": "stream",
     "text": [
      "Help on function keywords in module gensim.summarization.keywords:\n",
      "\n",
      "keywords(text, ratio=0.2, words=None, split=False, scores=False, pos_filter=('NN', 'JJ'), lemmatize=False, deacc=True)\n",
      "    Get most ranked words of provided text and/or its combinations.\n",
      "    \n",
      "    Parameters\n",
      "    ----------\n",
      "    \n",
      "    text : str\n",
      "        Input text.\n",
      "    ratio : float, optional\n",
      "        If no \"words\" option is selected, the number of sentences is reduced by the provided ratio,\n",
      "        else, the ratio is ignored.\n",
      "    words : int, optional\n",
      "        Number of returned words.\n",
      "    split : bool, optional\n",
      "        Whether split keywords if True.\n",
      "    scores : bool, optional\n",
      "        Whether score of keyword.\n",
      "    pos_filter : tuple, optional\n",
      "        Part of speech filters.\n",
      "    lemmatize : bool, optional\n",
      "        If True - lemmatize words.\n",
      "    deacc : bool, optional\n",
      "        If True - remove accentuation.\n",
      "    \n",
      "    Returns\n",
      "    -------\n",
      "    result: list of (str, float)\n",
      "        If `scores`, keywords with scores **OR**\n",
      "    result: list of str\n",
      "        If `split`, keywords only **OR**\n",
      "    result: str\n",
      "        Keywords, joined by endl.\n",
      "\n"
     ]
    }
   ],
   "source": [
    "help(keywords)"
   ]
  },
  {
   "cell_type": "code",
   "execution_count": 70,
   "metadata": {},
   "outputs": [
    {
     "name": "stdout",
     "output_type": "stream",
     "text": [
      ">>>>\n",
      "It is the world's second largest and second highest valued semiconductor chip manufacturer based on revenue after being overtaken by Samsung Electronics, and is the inventor of the x86 series of microprocessors, the processors found in most personal computers (PCs).\n",
      "Intel also manufactures motherboard chipsets, network interface controllers and integrated circuits, flash memory, graphics chips, embedded processors and other devices related to communications and computing.Intel Corporation was founded on July 18, 1968, by semiconductor pioneers Robert Noyce and Gordon Moore (of Moore's law), and is associated with the executive leadership and vision of Andrew Grove.\n",
      "intel\n",
      "chip\n",
      "chips\n",
      "microprocessors\n",
      "microprocessor\n",
      "devices\n",
      "corporation\n",
      "corporations\n"
     ]
    }
   ],
   "source": [
    "#pull in the document\n",
    "text = wikipedia.summary(\"Intel\")\n",
    "\n",
    "# remove some newlines and whitespace for pretty strings\n",
    "\n",
    "data = '' \n",
    "for i in text.splitlines():\n",
    "    data += i.strip()\n",
    "#print(data)\n",
    "\n",
    "#summarize the data\n",
    "summary = summarize(data, ratio = 0.2)\n",
    "print(\">>>>\")\n",
    "print(summary)\n",
    "\n",
    "# Identify keywords\n",
    "words = keywords(data, words = 5)\n",
    "print(words)"
   ]
  },
  {
   "cell_type": "code",
   "execution_count": null,
   "metadata": {},
   "outputs": [],
   "source": []
  }
 ],
 "metadata": {
  "kernelspec": {
   "display_name": "Python 3",
   "language": "python",
   "name": "python3"
  },
  "language_info": {
   "codemirror_mode": {
    "name": "ipython",
    "version": 3
   },
   "file_extension": ".py",
   "mimetype": "text/x-python",
   "name": "python",
   "nbconvert_exporter": "python",
   "pygments_lexer": "ipython3",
   "version": "3.7.4"
  }
 },
 "nbformat": 4,
 "nbformat_minor": 2
}
