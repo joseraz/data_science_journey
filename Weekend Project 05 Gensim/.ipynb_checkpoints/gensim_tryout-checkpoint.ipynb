{
 "cells": [
  {
   "cell_type": "code",
   "execution_count": 39,
   "metadata": {},
   "outputs": [],
   "source": [
    "# Testing out gensim to learn how to summarise documents and extract the key words\n",
    "# Text extract are from wikipedia's articles of isaac asimov the foundation.\n",
    "\n",
    "# Import the modules\n",
    "from gensim.summarization.summarizer import summarize\n",
    "from gensim.summarization import keywords"
   ]
  },
  {
   "cell_type": "code",
   "execution_count": 37,
   "metadata": {},
   "outputs": [],
   "source": [
    "text_1 = '''\n",
    "This part is original to the 1951 book version and takes place in 0 F.E. (\"Foundation Era\"). The story begins on Trantor, the capital of the 12,000-year-old Galactic Empire, a powerful but slowly decaying empire. Hari Seldon, a mathematician and psychologist, has developed psychohistory, a new field of science and psychology that equates all possibilities in large societies to mathematics, allowing for the prediction of future events.\n",
    "\n",
    "By means of psychohistory, Seldon has discovered the declining nature of the Empire, angering the aristocratic members of the Committee of Public Safety, the de facto rulers of the Empire. The Committee considers Seldon's views and statements treasonous, and he is arrested along with young mathematician Gaal Dornick, who has arrived on Trantor to meet Seldon. Seldon is tried by the Committee and defends his beliefs, explaining his theories and predictions, including his belief that the Empire will collapse in 500 years and enter a 30,000-year dark age. He informs the Committee that an alternative to this future is attainable, and explains to them that creating a compendium of all human knowledge, the Encyclopedia Galactica, would not avert the inevitable fall of the Empire but would reduce the dark age to one millennium.\n",
    "\n",
    "The skeptical Committee, not wanting to make Seldon a martyr, offers him exile to a remote world, Terminus, with others who could help him create the Encyclopedia. He accepts their offer, prepares for the departure of the \"Encyclopedists\" and receives an imperial decree officially acknowledging his actions. Seldon informs Dornick that despite the Empire believing they won by exiling Seldon the outcome was exactly what he had hoped would happen. Terminus would be the home of the first Foundation while a second would be established \"at Star's End.\" Seldon further announces he's dying and implores Dornick to become a leader in the new Foundation.\n",
    "'''"
   ]
  },
  {
   "cell_type": "code",
   "execution_count": 19,
   "metadata": {},
   "outputs": [],
   "source": [
    "text_2 = '''\n",
    "\"The Encyclopedists\" was originally published in the May, 1942 issue of Astounding Science-Fiction under the title of \"Foundation\". The story begins in 50 F.E. on Terminus, which has almost no mineral resources. There is one region suitable for the development of a large city, named Terminus City. The colony of professionals, devoted to the creation of the Encyclopedia Galactica, is managed by the Board of Trustees of the Encyclopedia Galactica Foundation, composed solely of scientists, called the Encyclopedists. The affairs of Terminus City itself are handled by the city's first Mayor, Salvor Hardin, who is a political figurehead and virtually powerless due to the influence of the Board of Trustees.[i] However, Hardin refuses to accept the status quo, which he believes puts Terminus in danger of political exploitation by the four neighboring prefectures of the Empire, which have declared independence and severed contact with its capital, Trantor, and are now calling themselves \"The Four Kingdoms.\" Hardin manages to avoid an attempt by the Kingdom of Anacreon to establish military bases on Terminus and to take advantage of their nuclear power, which Terminus retains but which the Four Kingdoms do not. Hardin succeeds in diverting Anacreon from its initial goal and furthers his goal of the establishment of a stable political system on Terminus.\n",
    "\n",
    "Hardin's efforts are still resisted by the Board of Trustees and its chairman, Dr. Lewis Pirenne, who erroneously believe they are protected by imperial decree. To remove this obstacle, Hardin and his chief advisor, Yohan Lee, plan a \"coup d'état\" designed to remove the Board of Trustees from its politically powerful position on the same day that, in the city's Time Vault, a holographic recording of Hari Seldon is programmed to play. The recording will contain psychohistoric proof of Hardin's success or failure; Hardin realizes that his coup is a great gamble due to the possible case that his beliefs are incompatible with Seldon's original goals.\n",
    "\n",
    "The next day in the Time Vault the holographic video of Hari Seldon in his wheelchair appears. He reveals that the Encyclopedia Galactica is actually a distraction intended to make the colony's creation possible. The true purpose of the Foundation is to form one nucleus of a Second Galactic Empire and shorten the predicted period of chaos to a mere thousand years, rather than thirty thousand years.\n",
    "\n",
    "After the video ends, the Encyclopedists admit, to Hardin, to having been wrong, and Pirenne schedules a meeting to discuss their next action. Hardin knew that this victory would give him the leverage he needed to gain significant power and thus \"assume actual government\" by removing the \"figurehead\" status from his Mayoral office. He also knew that Anacreon's forces would be arriving soon to forcibly take the Foundation. Salvor Hardin had guessed the solution, and as Hari Seldon said, \"it was obvious.\"\n",
    "'''"
   ]
  },
  {
   "cell_type": "code",
   "execution_count": 59,
   "metadata": {},
   "outputs": [
    {
     "name": "stdout",
     "output_type": "stream",
     "text": [
      "He informs the Committee that an alternative to this future is attainable, and explains to them that creating a compendium of all human knowledge, the Encyclopedia Galactica, would not avert the inevitable fall of the Empire but would reduce the dark age to one millennium.\n",
      "The skeptical Committee, not wanting to make Seldon a martyr, offers him exile to a remote world, Terminus, with others who could help him create the Encyclopedia.\n",
      "['seldon', 'empire', 'dornick', 'offers', 'offer', 'world']\n"
     ]
    }
   ],
   "source": [
    "print(summarize(text_1, \n",
    "                ratio=0.2, \n",
    "                word_count=None, \n",
    "                split=False))\n",
    "print(keywords(text_1, \n",
    "               words = 5).split('\\n'))"
   ]
  },
  {
   "cell_type": "code",
   "execution_count": 55,
   "metadata": {},
   "outputs": [],
   "source": [
    "#from gensim import keywords\n",
    "import wikipedia"
   ]
  },
  {
   "cell_type": "code",
   "execution_count": 70,
   "metadata": {},
   "outputs": [
    {
     "name": "stdout",
     "output_type": "stream",
     "text": [
      ">>>>\n",
      "It is the world's second largest and second highest valued semiconductor chip manufacturer based on revenue after being overtaken by Samsung Electronics, and is the inventor of the x86 series of microprocessors, the processors found in most personal computers (PCs).\n",
      "Intel also manufactures motherboard chipsets, network interface controllers and integrated circuits, flash memory, graphics chips, embedded processors and other devices related to communications and computing.Intel Corporation was founded on July 18, 1968, by semiconductor pioneers Robert Noyce and Gordon Moore (of Moore's law), and is associated with the executive leadership and vision of Andrew Grove.\n",
      "intel\n",
      "chip\n",
      "chips\n",
      "microprocessors\n",
      "microprocessor\n",
      "devices\n",
      "corporation\n",
      "corporations\n"
     ]
    }
   ],
   "source": [
    "#pull in the document\n",
    "text = wikipedia.summary(\"Intel\")\n",
    "\n",
    "# remove some newlines and whitespace for pretty strings\n",
    "\n",
    "data = '' \n",
    "for i in text.splitlines():\n",
    "    data += i.strip()\n",
    "#print(data)\n",
    "\n",
    "#summarize the data\n",
    "summary = summarize(data, ratio = 0.2)\n",
    "print(\">>>>\")\n",
    "print(summary)\n",
    "\n",
    "# Identify keywords\n",
    "words = keywords(data, words = 5)\n",
    "print(words)"
   ]
  },
  {
   "cell_type": "code",
   "execution_count": 71,
   "metadata": {},
   "outputs": [
    {
     "name": "stdout",
     "output_type": "stream",
     "text": [
      "Help on function keywords in module gensim.summarization.keywords:\n",
      "\n",
      "keywords(text, ratio=0.2, words=None, split=False, scores=False, pos_filter=('NN', 'JJ'), lemmatize=False, deacc=True)\n",
      "    Get most ranked words of provided text and/or its combinations.\n",
      "    \n",
      "    Parameters\n",
      "    ----------\n",
      "    \n",
      "    text : str\n",
      "        Input text.\n",
      "    ratio : float, optional\n",
      "        If no \"words\" option is selected, the number of sentences is reduced by the provided ratio,\n",
      "        else, the ratio is ignored.\n",
      "    words : int, optional\n",
      "        Number of returned words.\n",
      "    split : bool, optional\n",
      "        Whether split keywords if True.\n",
      "    scores : bool, optional\n",
      "        Whether score of keyword.\n",
      "    pos_filter : tuple, optional\n",
      "        Part of speech filters.\n",
      "    lemmatize : bool, optional\n",
      "        If True - lemmatize words.\n",
      "    deacc : bool, optional\n",
      "        If True - remove accentuation.\n",
      "    \n",
      "    Returns\n",
      "    -------\n",
      "    result: list of (str, float)\n",
      "        If `scores`, keywords with scores **OR**\n",
      "    result: list of str\n",
      "        If `split`, keywords only **OR**\n",
      "    result: str\n",
      "        Keywords, joined by endl.\n",
      "\n"
     ]
    }
   ],
   "source": [
    "help(keywords)"
   ]
  },
  {
   "cell_type": "code",
   "execution_count": null,
   "metadata": {},
   "outputs": [],
   "source": []
  }
 ],
 "metadata": {
  "kernelspec": {
   "display_name": "Python 3",
   "language": "python",
   "name": "python3"
  },
  "language_info": {
   "codemirror_mode": {
    "name": "ipython",
    "version": 3
   },
   "file_extension": ".py",
   "mimetype": "text/x-python",
   "name": "python",
   "nbconvert_exporter": "python",
   "pygments_lexer": "ipython3",
   "version": "3.7.4"
  }
 },
 "nbformat": 4,
 "nbformat_minor": 2
}
